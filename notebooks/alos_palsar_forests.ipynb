{
 "cells": [
  {
   "cell_type": "code",
   "execution_count": 1,
   "id": "e83b438b-79ad-4f11-abcb-608be4cd934c",
   "metadata": {},
   "outputs": [],
   "source": [
    "import numpy as np\n",
    "import planetary_computer as pc\n",
    "import stackstac\n",
    "from pystac_client import Client\n",
    "import matplotlib.pyplot as plt\n",
    "import geopandas as gpd\n",
    "import json\n",
    "import shapely.geometry \n",
    "import rioxarray\n",
    "from rasterio.crs import CRS\n",
    "from rasterio.plot import show\n",
    "import rasterio.features\n",
    "import matplotlib.colors"
   ]
  },
  {
   "cell_type": "code",
   "execution_count": 2,
   "id": "c48b43cc-e1fb-4eec-8e0b-f44efc28a65c",
   "metadata": {},
   "outputs": [],
   "source": [
    "aoi = 'fiji'\n",
    "local =  gpd.read_file(aoi + '.geojson')\n",
    "area_of_interest = local.geometry[0]\n",
    "bbox = rasterio.features.bounds(local.geometry[0])\n",
    "#local.explore()"
   ]
  },
  {
   "cell_type": "code",
   "execution_count": 3,
   "id": "7f3aa907-6679-413e-bdf2-b61499361570",
   "metadata": {},
   "outputs": [
    {
     "name": "stdout",
     "output_type": "stream",
     "text": [
      "Returned 0 items\n",
      "0 Items\n"
     ]
    },
    {
     "ename": "IndexError",
     "evalue": "list index out of range",
     "output_type": "error",
     "traceback": [
      "\u001b[0;31m---------------------------------------------------------------------------\u001b[0m",
      "\u001b[0;31mIndexError\u001b[0m                                Traceback (most recent call last)",
      "Input \u001b[0;32mIn [3]\u001b[0m, in \u001b[0;36m<cell line: 23>\u001b[0;34m()\u001b[0m\n\u001b[1;32m     20\u001b[0m     count \u001b[38;5;241m=\u001b[39m count \u001b[38;5;241m+\u001b[39m \u001b[38;5;241m1\u001b[39m\n\u001b[1;32m     21\u001b[0m \u001b[38;5;28mprint\u001b[39m(\u001b[38;5;124mf\u001b[39m\u001b[38;5;124m\"\u001b[39m\u001b[38;5;132;01m{\u001b[39;00mcount\u001b[38;5;132;01m}\u001b[39;00m\u001b[38;5;124m Items\u001b[39m\u001b[38;5;124m\"\u001b[39m)\n\u001b[0;32m---> 23\u001b[0m fnf_item_1 \u001b[38;5;241m=\u001b[39m pc\u001b[38;5;241m.\u001b[39msign(\u001b[43mfnf_items\u001b[49m\u001b[43m[\u001b[49m\u001b[38;5;241;43m0\u001b[39;49m\u001b[43m]\u001b[49m)\n\u001b[1;32m     24\u001b[0m fnf_item \u001b[38;5;241m=\u001b[39m [pc\u001b[38;5;241m.\u001b[39msign(item)\u001b[38;5;241m.\u001b[39mto_dict() \u001b[38;5;28;01mfor\u001b[39;00m item \u001b[38;5;129;01min\u001b[39;00m fnf_items]\n\u001b[1;32m     26\u001b[0m fnf_tile \u001b[38;5;241m=\u001b[39m stackstac\u001b[38;5;241m.\u001b[39mstack(\n\u001b[1;32m     27\u001b[0m     fnf_item, assets\u001b[38;5;241m=\u001b[39m[\u001b[38;5;124m\"\u001b[39m\u001b[38;5;124mC\u001b[39m\u001b[38;5;124m\"\u001b[39m], dtype\u001b[38;5;241m=\u001b[39m\u001b[38;5;124m\"\u001b[39m\u001b[38;5;124muint8\u001b[39m\u001b[38;5;124m\"\u001b[39m, fill_value\u001b[38;5;241m=\u001b[39m\u001b[38;5;241m0\u001b[39m, bounds_latlon\u001b[38;5;241m=\u001b[39mbbox,\n\u001b[1;32m     28\u001b[0m )\u001b[38;5;241m.\u001b[39msqueeze()\n",
      "File \u001b[0;32m/srv/conda/envs/notebook/lib/python3.8/site-packages/pystac/item_collection.py:97\u001b[0m, in \u001b[0;36mItemCollection.__getitem__\u001b[0;34m(self, idx)\u001b[0m\n\u001b[1;32m     96\u001b[0m \u001b[38;5;28;01mdef\u001b[39;00m \u001b[38;5;21m__getitem__\u001b[39m(\u001b[38;5;28mself\u001b[39m, idx: \u001b[38;5;28mint\u001b[39m) \u001b[38;5;241m-\u001b[39m\u001b[38;5;241m>\u001b[39m pystac\u001b[38;5;241m.\u001b[39mItem:\n\u001b[0;32m---> 97\u001b[0m     \u001b[38;5;28;01mreturn\u001b[39;00m \u001b[38;5;28;43mself\u001b[39;49m\u001b[38;5;241;43m.\u001b[39;49m\u001b[43mitems\u001b[49m\u001b[43m[\u001b[49m\u001b[43midx\u001b[49m\u001b[43m]\u001b[49m\n",
      "\u001b[0;31mIndexError\u001b[0m: list index out of range"
     ]
    }
   ],
   "source": [
    "year = \"2020\"\n",
    "\n",
    "catalog = Client.open(\n",
    "    \"https://planetarycomputer.microsoft.com/api/stac/v1/\",\n",
    ")\n",
    "\n",
    "search = catalog.search(\n",
    "    collections=[\"alos-fnf-mosaic\"], \n",
    "    intersects=area_of_interest,\n",
    "    datetime= year + \"-01-01/\" + year + \"-12-31\",\n",
    ") \n",
    "fnf_items = search.get_all_items()\n",
    "print(f\"Returned {len(fnf_items)} items\")\n",
    "\n",
    "\n",
    "count = 0\n",
    "for item in fnf_items:    \n",
    "    print(f\"{item.id}: {item.datetime}\")    \n",
    "    print(item.assets)\n",
    "    count = count + 1\n",
    "print(f\"{count} Items\")\n",
    "\n",
    "fnf_item_1 = pc.sign(fnf_items[0])\n",
    "fnf_item = [pc.sign(item).to_dict() for item in fnf_items]\n",
    "\n",
    "fnf_tile = stackstac.stack(\n",
    "    fnf_item, assets=[\"C\"], dtype=\"uint8\", fill_value=0, bounds_latlon=bbox,\n",
    ").squeeze()\n",
    "\n",
    "fnf_tile"
   ]
  },
  {
   "cell_type": "code",
   "execution_count": null,
   "id": "7ae62675-5d99-4b5e-a508-4b86936eb4ad",
   "metadata": {},
   "outputs": [],
   "source": [
    "classes = fnf_item_1.get_collection().extra_fields[\"item_assets\"][\"C\"][\n",
    "    \"classification:classes\"\n",
    "]\n",
    "labels = [x[\"description\"] for x in classes]\n",
    "labels"
   ]
  },
  {
   "cell_type": "code",
   "execution_count": null,
   "id": "e5c3615e-b0af-4f54-9c34-3dfec6f9a400",
   "metadata": {},
   "outputs": [],
   "source": [
    "cmap = matplotlib.colors.ListedColormap(\n",
    "    [\n",
    "        (0, 0, 0, 0),  # nodata\n",
    "        (0, 0.7, 0, 1),  # forest, > 90% canopy\n",
    "        (0.51, 0.94, 0.38, 1),  # forest 10-90% canopy\n",
    "        (1, 1, 0.6, 1),  # non-forest\n",
    "        (0.0, 0.0, 1, 1),  # water\n",
    "    ]\n",
    ")\n",
    "\n",
    "# Plot the classification map\n",
    "#p = fnf_tile[3].plot(cmap=cmap, vmin=0, vmax=4, size=8)\n",
    "\n",
    "#ticks = np.arange(0.4, 4, 0.8)\n",
    "#p.colorbar.set_ticks(ticks, labels=labels)\n",
    "#p.colorbar.set_label(\"Class\")\n"
   ]
  },
  {
   "cell_type": "code",
   "execution_count": null,
   "id": "83757d5c-1b9c-44e9-bbb0-664c2204ae64",
   "metadata": {},
   "outputs": [],
   "source": [
    "#write tiff (fnf_tile)\n",
    "count = 1\n",
    "for d in fnf_tile:\n",
    "    d.rio.write_nodata(0, inplace=True)\n",
    "    d.rio.to_raster(aoi + \"_fnf_\" + year + \"_\" + str(count) + \".tif\")\n",
    "    count = count + 1"
   ]
  },
  {
   "cell_type": "code",
   "execution_count": null,
   "id": "b84e104f-2675-4aab-b56a-2ebb5143b116",
   "metadata": {},
   "outputs": [],
   "source": [
    "print(\"Finished.\")"
   ]
  },
  {
   "cell_type": "code",
   "execution_count": null,
   "id": "baadcbc5-e401-4197-b44f-60e4999bc152",
   "metadata": {},
   "outputs": [],
   "source": []
  }
 ],
 "metadata": {
  "kernelspec": {
   "display_name": "Python 3 (ipykernel)",
   "language": "python",
   "name": "python3"
  },
  "language_info": {
   "codemirror_mode": {
    "name": "ipython",
    "version": 3
   },
   "file_extension": ".py",
   "mimetype": "text/x-python",
   "name": "python",
   "nbconvert_exporter": "python",
   "pygments_lexer": "ipython3",
   "version": "3.8.13"
  }
 },
 "nbformat": 4,
 "nbformat_minor": 5
}
