{
 "cells": [
  {
   "cell_type": "markdown",
   "metadata": {},
   "source": [
    "## Accessing Sentinel-1 GRD data on Azure\n",
    "\n",
    "The [Sentinel-1](https://sentinel.esa.int/web/sentinel/missions/sentinel-1) program provides global synthetic aperature radar imaging with a revisit time of approximately six days.  The [Ground Range Detected](https://sentinel.esa.int/web/sentinel/technical-guides/sentinel-1-sar/products-algorithms/level-1-algorithms/ground-range-detected) (GRD) product has been detected and projected to ground range.  This dataset represents the global Sentinel-1 GRD archive, from 2017 to the present, converted to [cloud-optimized GeoTIFF](https://www.cogeo.org/) format.\n",
    "\n",
    "This notebook demonstrates basic access to Sentinel-1 GRD data on Azure, using sentinelsat to query the Copernicus Open Access Hub for tiles, then accessing the tiles on Azure blob storage.  Because Sentinel-1 data are in preview, the user needs to provide storage credentials.  To access the Copernicus Open Access Hub for spatiotemporal search, the user also needs to provide Open Access Hub credentials.\n",
    "\n",
    "This dataset is stored in the West Europe Azure region, so this notebook will run most efficiently on Azure compute located in the same region.  If you are using this data for environmental science applications, consider applying for an [AI for Earth grant](http://aka.ms/ai4egrants) to support your compute requirements.\n",
    "\n",
    "This dataset is documented at [aka.ms/ai4edata-sentinel-1](http://aka.ms/ai4edata-sentinel-1).\n",
    "\n",
    "Sentinel-1 data on Azure are maintained by [Sinergise](https://sinergise.com/)."
   ]
  },
  {
   "cell_type": "code",
   "execution_count": 1,
   "metadata": {},
   "outputs": [
    {
     "name": "stdout",
     "output_type": "stream",
     "text": [
      "Collecting sentinelsat\n",
      "  Using cached sentinelsat-1.1.1-py3-none-any.whl (48 kB)\n",
      "Requirement already satisfied: geojson>=2 in /srv/conda/envs/notebook/lib/python3.8/site-packages (from sentinelsat) (2.5.0)\n",
      "Collecting geomet\n",
      "  Using cached geomet-0.3.0-py3-none-any.whl (28 kB)\n",
      "Requirement already satisfied: tqdm>=4.58 in /srv/conda/envs/notebook/lib/python3.8/site-packages (from sentinelsat) (4.62.3)\n",
      "Requirement already satisfied: click>=7.1 in /srv/conda/envs/notebook/lib/python3.8/site-packages (from sentinelsat) (7.1.2)\n",
      "Collecting html2text\n",
      "  Using cached html2text-2020.1.16-py3-none-any.whl (32 kB)\n",
      "Requirement already satisfied: requests in /srv/conda/envs/notebook/lib/python3.8/site-packages (from sentinelsat) (2.26.0)\n",
      "Requirement already satisfied: six in /srv/conda/envs/notebook/lib/python3.8/site-packages (from geomet->sentinelsat) (1.16.0)\n",
      "Requirement already satisfied: charset-normalizer~=2.0.0 in /srv/conda/envs/notebook/lib/python3.8/site-packages (from requests->sentinelsat) (2.0.8)\n",
      "Requirement already satisfied: idna<4,>=2.5 in /srv/conda/envs/notebook/lib/python3.8/site-packages (from requests->sentinelsat) (3.1)\n",
      "Requirement already satisfied: urllib3<1.27,>=1.21.1 in /srv/conda/envs/notebook/lib/python3.8/site-packages (from requests->sentinelsat) (1.26.7)\n",
      "Requirement already satisfied: certifi>=2017.4.17 in /srv/conda/envs/notebook/lib/python3.8/site-packages (from requests->sentinelsat) (2021.10.8)\n",
      "Installing collected packages: html2text, geomet, sentinelsat\n",
      "Successfully installed geomet-0.3.0 html2text-2020.1.16 sentinelsat-1.1.1\n"
     ]
    }
   ],
   "source": [
    "!pip install sentinelsat"
   ]
  },
  {
   "cell_type": "markdown",
   "metadata": {},
   "source": [
    "### Environment setup"
   ]
  },
  {
   "cell_type": "code",
   "execution_count": 2,
   "metadata": {},
   "outputs": [],
   "source": [
    "import os\n",
    "import datetime\n",
    "import json\n",
    "import requests\n",
    "import numpy as np\n",
    "import matplotlib.pyplot as plt\n",
    "\n",
    "import rasterio\n",
    "\n",
    "from sentinelsat import SentinelAPI, geojson_to_wkt\n",
    "from azure.storage.blob import ContainerClient"
   ]
  },
  {
   "cell_type": "markdown",
   "metadata": {},
   "source": [
    "### Check Token File"
   ]
  },
  {
   "cell_type": "code",
   "execution_count": 3,
   "metadata": {},
   "outputs": [
    {
     "data": {
      "text/plain": [
       "True"
      ]
     },
     "execution_count": 3,
     "metadata": {},
     "output_type": "execute_result"
    }
   ],
   "source": [
    "token = 'common/sentinel1_ro_sas.txt'\n",
    "os.path.exists(token)"
   ]
  },
  {
   "cell_type": "markdown",
   "metadata": {},
   "source": [
    "### Auth files"
   ]
  },
  {
   "cell_type": "code",
   "execution_count": 4,
   "metadata": {},
   "outputs": [],
   "source": [
    "# This can be either a SAS token or a file with a SAS token on the file line\n",
    "sas_token = os.path.expanduser('common/sentinel1_ro_sas.txt') # '?sv=...'\n",
    "\n",
    "# A text file with a login on the first line, password on the second line... basically \n",
    "# an even-less-fancy .netrc\n",
    "copernicus_credentials_file = ('common/coah_username_password.txt')\n",
    "#copernicus_credentials_file = None\n",
    "\n",
    "# Or specify username/password\n",
    "#username = \"sachindras\"; password = \"Scalalang29\"\n",
    "username = None; password = None"
   ]
  },
  {
   "cell_type": "markdown",
   "metadata": {},
   "source": [
    "### Constants"
   ]
  },
  {
   "cell_type": "code",
   "execution_count": 5,
   "metadata": {},
   "outputs": [],
   "source": [
    "api_url = 'https://scihub.copernicus.eu/dhus'\n",
    "platform_name = 'Sentinel-1'\n",
    "\n",
    "# Query parameters\n",
    "start_time = datetime.datetime(2021,1,1,0,0,0)\n",
    "end_time = datetime.datetime(2021,2,1,0,0,0)\n",
    "\n",
    "# URL containing a geojson file with an area of interest, in this case a rectangle around Seattle\n",
    "query_geojson_url = 'https://ai4edatasetspublicassets.blob.core.windows.net/assets/stuff-near-seattle.geojson'\n",
    "\n",
    "# Scaling constants that control rendering brightness\n",
    "norm_value = 1500\n",
    "composite_norm_value = 500\n",
    "\n",
    "# When rendering whole images, how much should we downscale?\n",
    "dsfactor = 10"
   ]
  },
  {
   "cell_type": "markdown",
   "metadata": {},
   "source": [
    "### Create container client"
   ]
  },
  {
   "cell_type": "code",
   "execution_count": 6,
   "metadata": {},
   "outputs": [],
   "source": [
    "if os.path.isfile(sas_token):\n",
    "    lines = []\n",
    "    with open(sas_token,'r') as f:\n",
    "        lines = f.readlines()\n",
    "    assert len(lines) >= 1\n",
    "    sas_token = lines[0].strip()\n",
    "    \n",
    "storage_account_name = 'sentinel1euwest'\n",
    "container_name = 's1-grd'\n",
    "\n",
    "storage_account_url = 'https://' + storage_account_name + '.blob.core.windows.net/'\n",
    "\n",
    "container_client = ContainerClient(account_url=storage_account_url, \n",
    "                                             container_name=container_name,\n",
    "                                             credential=sas_token)"
   ]
  },
  {
   "cell_type": "markdown",
   "metadata": {},
   "source": [
    "### Load username/pw for Open Access Hub"
   ]
  },
  {
   "cell_type": "code",
   "execution_count": 7,
   "metadata": {},
   "outputs": [],
   "source": [
    "if copernicus_credentials_file is not None:\n",
    "\n",
    "    assert username is None \n",
    "    assert password is None    \n",
    "\n",
    "    lines = []\n",
    "    with open(copernicus_credentials_file,'r') as f:\n",
    "        lines = f.readlines()\n",
    "    assert len(lines) >= 2\n",
    "    \n",
    "    username = lines[0].strip()\n",
    "    password = lines[1].strip()"
   ]
  },
  {
   "cell_type": "markdown",
   "metadata": {},
   "source": [
    "### Connect to the hub API"
   ]
  },
  {
   "cell_type": "code",
   "execution_count": 8,
   "metadata": {},
   "outputs": [],
   "source": [
    "api = SentinelAPI(user=username, password=password, api_url=api_url)"
   ]
  },
  {
   "cell_type": "markdown",
   "metadata": {},
   "source": [
    "### Query for tiles"
   ]
  },
  {
   "cell_type": "code",
   "execution_count": 9,
   "metadata": {},
   "outputs": [],
   "source": [
    "geojson = json.loads(requests.get(query_geojson_url).text)\n",
    "footprint = geojson_to_wkt(geojson)\n",
    "\n",
    "products = api.query(footprint,\n",
    "                     producttype='GRD',\n",
    "                     date=(start_time,end_time),\n",
    "                     platformname=platform_name)"
   ]
  },
  {
   "cell_type": "markdown",
   "metadata": {},
   "source": [
    "### List products"
   ]
  },
  {
   "cell_type": "code",
   "execution_count": 10,
   "metadata": {},
   "outputs": [
    {
     "name": "stdout",
     "output_type": "stream",
     "text": [
      "Found 16 tiles:\n",
      "S1B_IW_GRDH_1SDV_20210129T020125_20210129T020150_025363_030553_F429.SAFE\n",
      "S1B_IW_GRDH_1SDV_20210129T020150_20210129T020215_025363_030553_48CA.SAFE\n",
      "S1B_IW_GRDH_1SDV_20210127T141257_20210127T141327_025341_0304A3_6E12.SAFE\n",
      "S1B_IW_GRDH_1SDV_20210127T141232_20210127T141257_025341_0304A3_F6D6.SAFE\n",
      "S1B_IW_GRDH_1SDV_20210124T015328_20210124T015353_025290_0302FD_BD63.SAFE\n",
      "S1B_IW_GRDH_1SDV_20210120T142048_20210120T142113_025239_030157_02F1.SAFE\n",
      "S1B_IW_GRDH_1SDV_20210117T020150_20210117T020215_025188_02FFBE_972E.SAFE\n",
      "S1B_IW_GRDH_1SDV_20210117T020125_20210117T020150_025188_02FFBE_3068.SAFE\n",
      "S1B_IW_GRDH_1SDV_20210115T141257_20210115T141327_025166_02FF0F_810D.SAFE\n",
      "S1B_IW_GRDH_1SDV_20210115T141232_20210115T141257_025166_02FF0F_1170.SAFE\n",
      "S1B_IW_GRDH_1SDV_20210112T015328_20210112T015353_025115_02FD69_43DB.SAFE\n",
      "S1B_IW_GRDH_1SDV_20210108T142048_20210108T142113_025064_02FBBD_C037.SAFE\n",
      "S1B_IW_GRDH_1SDV_20210105T020126_20210105T020151_025013_02FA23_7F71.SAFE\n",
      "S1B_IW_GRDH_1SDV_20210105T020151_20210105T020216_025013_02FA23_411B.SAFE\n",
      "S1B_IW_GRDH_1SDV_20210103T141233_20210103T141258_024991_02F96E_5EC4.SAFE\n",
      "S1B_IW_GRDH_1SDV_20210103T141258_20210103T141328_024991_02F96E_EFDC.SAFE\n"
     ]
    }
   ],
   "source": [
    "product_values = list(products.values())\n",
    "    \n",
    "print('Found {} tiles:'.format(len(products)))\n",
    "for p in product_values:\n",
    "    print(p['filename'])"
   ]
  },
  {
   "cell_type": "markdown",
   "metadata": {},
   "source": [
    "### Grab the first product"
   ]
  },
  {
   "cell_type": "code",
   "execution_count": 11,
   "metadata": {},
   "outputs": [],
   "source": [
    "product = product_values[0]"
   ]
  },
  {
   "cell_type": "code",
   "execution_count": 12,
   "metadata": {},
   "outputs": [
    {
     "name": "stdout",
     "output_type": "stream",
     "text": [
      "{ 'acquisitiontype': 'NOMINAL',\n",
      "  'beginposition': datetime.datetime(2021, 1, 29, 2, 1, 25, 407000),\n",
      "  'endposition': datetime.datetime(2021, 1, 29, 2, 1, 50, 407000),\n",
      "  'filename': 'S1B_IW_GRDH_1SDV_20210129T020125_20210129T020150_025363_030553_F429.SAFE',\n",
      "  'footprint': 'MULTIPOLYGON (((-123.969368 45.992237, -120.676697 46.3904, '\n",
      "               '-121.011612 47.888786, -124.397346 47.490295, -123.969368 '\n",
      "               '45.992237)))',\n",
      "  'format': 'SAFE',\n",
      "  'gmlfootprint': '<gml:Polygon '\n",
      "                  'srsName=\"http://www.opengis.net/gml/srs/epsg.xml#4326\" '\n",
      "                  'xmlns:gml=\"http://www.opengis.net/gml\">\\n'\n",
      "                  '   <gml:outerBoundaryIs>\\n'\n",
      "                  '      <gml:LinearRing>\\n'\n",
      "                  '         <gml:coordinates>47.490295,-124.397346 '\n",
      "                  '47.888786,-121.011612 46.390400,-120.676697 '\n",
      "                  '45.992237,-123.969368 '\n",
      "                  '47.490295,-124.397346</gml:coordinates>\\n'\n",
      "                  '      </gml:LinearRing>\\n'\n",
      "                  '   </gml:outerBoundaryIs>\\n'\n",
      "                  '</gml:Polygon>',\n",
      "  'identifier': 'S1B_IW_GRDH_1SDV_20210129T020125_20210129T020150_025363_030553_F429',\n",
      "  'ingestiondate': datetime.datetime(2021, 1, 29, 5, 40, 27, 433000),\n",
      "  'instrumentname': 'Synthetic Aperture Radar (C-band)',\n",
      "  'instrumentshortname': 'SAR-C SAR',\n",
      "  'lastorbitnumber': 25363,\n",
      "  'lastrelativeorbitnumber': 137,\n",
      "  'link': \"https://scihub.copernicus.eu/dhus/odata/v1/Products('2ce33932-e012-41d6-ad7e-3c651efb318b')/$value\",\n",
      "  'link_alternative': \"https://scihub.copernicus.eu/dhus/odata/v1/Products('2ce33932-e012-41d6-ad7e-3c651efb318b')/\",\n",
      "  'link_icon': \"https://scihub.copernicus.eu/dhus/odata/v1/Products('2ce33932-e012-41d6-ad7e-3c651efb318b')/Products('Quicklook')/$value\",\n",
      "  'missiondatatakeid': 197971,\n",
      "  'ondemand': 'false',\n",
      "  'orbitdirection': 'ASCENDING',\n",
      "  'orbitnumber': 25363,\n",
      "  'platformidentifier': '2016-025A',\n",
      "  'platformname': 'Sentinel-1',\n",
      "  'polarisationmode': 'VV VH',\n",
      "  'productclass': 'S',\n",
      "  'producttype': 'GRD',\n",
      "  'relativeorbitnumber': 137,\n",
      "  'sensoroperationalmode': 'IW',\n",
      "  'size': '1.61 GB',\n",
      "  'slicenumber': 10,\n",
      "  'status': 'ARCHIVED',\n",
      "  'summary': 'Date: 2021-01-29T02:01:25.407Z, Instrument: SAR-C SAR, Mode: VV '\n",
      "             'VH, Satellite: Sentinel-1, Size: 1.61 GB',\n",
      "  'swathidentifier': 'IW',\n",
      "  'timeliness': 'Fast-24h',\n",
      "  'title': 'S1B_IW_GRDH_1SDV_20210129T020125_20210129T020150_025363_030553_F429',\n",
      "  'uuid': '2ce33932-e012-41d6-ad7e-3c651efb318b'}\n"
     ]
    }
   ],
   "source": [
    "import pprint; pp = pprint.PrettyPrinter(indent=2)\n",
    "pp.pprint(product)"
   ]
  },
  {
   "cell_type": "markdown",
   "metadata": {},
   "source": [
    "### Formulate a Sentinel-1 path in our container's format"
   ]
  },
  {
   "cell_type": "code",
   "execution_count": 13,
   "metadata": {},
   "outputs": [
    {
     "name": "stdout",
     "output_type": "stream",
     "text": [
      "Azure scene prefix: GRD/2021/1/29/IW/DV/S1B_IW_GRDH_1SDV_20210129T020125_20210129T020150_025363_030553_F429\n"
     ]
    }
   ],
   "source": [
    "# For the product:\n",
    "#\n",
    "# S1B_IW_GRDH_1SDV_20210129T020125_20210129T020150_025363_030553_F429.SAFE\n",
    "#    \n",
    "# Our path is:\n",
    "#    \n",
    "# https://sentinel1euwest.blob.core.windows.net/s1-grd/\n",
    "#\n",
    "# GRD/2021/1/29/IW/DV/S1B_IW_GRDH_1SDV_20210129T020125_20210129T020150_025363_030553_F429/\n",
    "#\n",
    "# Everything here can be pulled directly from the scene name, we don't actually need the product\n",
    "# metadata.\n",
    "\n",
    "root = 'GRD'\n",
    "\n",
    "scene_name = product['filename'].replace('.SAFE','')\n",
    "mode = scene_name[4:6]\n",
    "polarization = scene_name[14:16] # \"DV\", for example, is \"dual VV/VH\"\n",
    "year = scene_name[17:21];\n",
    "month = scene_name[21:23].lstrip('0');\n",
    "day = scene_name[23:25].lstrip('0');\n",
    "\n",
    "azure_scene_prefix = '/'.join([root,year,month,day,mode,polarization,scene_name])\n",
    "\n",
    "print('Azure scene prefix: {}'.format(azure_scene_prefix))"
   ]
  },
  {
   "cell_type": "markdown",
   "metadata": {},
   "source": [
    "### List matching blobs"
   ]
  },
  {
   "cell_type": "code",
   "execution_count": 14,
   "metadata": {},
   "outputs": [
    {
     "ename": "ClientAuthenticationError",
     "evalue": "Server failed to authenticate the request. Make sure the value of Authorization header is formed correctly including the signature.\nRequestId:39922a4c-b01e-0071-394f-3b5173000000\nTime:2022-03-19T05:11:10.8191779Z\nErrorCode:AuthenticationFailed\nauthenticationerrordetail:SAS identifier cannot be found for specified signed identifier",
     "output_type": "error",
     "traceback": [
      "\u001b[0;31m---------------------------------------------------------------------------\u001b[0m",
      "\u001b[0;31mClientAuthenticationError\u001b[0m                 Traceback (most recent call last)",
      "\u001b[0;32m/tmp/ipykernel_394/1332039863.py\u001b[0m in \u001b[0;36m<module>\u001b[0;34m\u001b[0m\n\u001b[1;32m      1\u001b[0m \u001b[0mgenerator\u001b[0m \u001b[0;34m=\u001b[0m \u001b[0mcontainer_client\u001b[0m\u001b[0;34m.\u001b[0m\u001b[0mlist_blobs\u001b[0m\u001b[0;34m(\u001b[0m\u001b[0mname_starts_with\u001b[0m\u001b[0;34m=\u001b[0m\u001b[0mazure_scene_prefix\u001b[0m\u001b[0;34m)\u001b[0m\u001b[0;34m\u001b[0m\u001b[0;34m\u001b[0m\u001b[0m\n\u001b[0;32m----> 2\u001b[0;31m \u001b[0mscene_files\u001b[0m \u001b[0;34m=\u001b[0m \u001b[0mlist\u001b[0m\u001b[0;34m(\u001b[0m\u001b[0mgenerator\u001b[0m\u001b[0;34m)\u001b[0m\u001b[0;34m\u001b[0m\u001b[0;34m\u001b[0m\u001b[0m\n\u001b[0m\u001b[1;32m      3\u001b[0m \u001b[0mimage_blobs\u001b[0m \u001b[0;34m=\u001b[0m \u001b[0;34m[\u001b[0m\u001b[0mblob\u001b[0m\u001b[0;34m.\u001b[0m\u001b[0mname\u001b[0m \u001b[0;32mfor\u001b[0m \u001b[0mblob\u001b[0m \u001b[0;32min\u001b[0m \u001b[0mscene_files\u001b[0m \u001b[0;32mif\u001b[0m \u001b[0mblob\u001b[0m\u001b[0;34m.\u001b[0m\u001b[0mname\u001b[0m\u001b[0;34m.\u001b[0m\u001b[0mendswith\u001b[0m\u001b[0;34m(\u001b[0m\u001b[0;34m'.tiff'\u001b[0m\u001b[0;34m)\u001b[0m\u001b[0;34m]\u001b[0m\u001b[0;34m\u001b[0m\u001b[0;34m\u001b[0m\u001b[0m\n\u001b[1;32m      4\u001b[0m \u001b[0mpreview_blobs\u001b[0m \u001b[0;34m=\u001b[0m \u001b[0;34m[\u001b[0m\u001b[0mblob\u001b[0m\u001b[0;34m.\u001b[0m\u001b[0mname\u001b[0m \u001b[0;32mfor\u001b[0m \u001b[0mblob\u001b[0m \u001b[0;32min\u001b[0m \u001b[0mscene_files\u001b[0m \u001b[0;32mif\u001b[0m \u001b[0mblob\u001b[0m\u001b[0;34m.\u001b[0m\u001b[0mname\u001b[0m\u001b[0;34m.\u001b[0m\u001b[0mendswith\u001b[0m\u001b[0;34m(\u001b[0m\u001b[0;34m'quick-look.png'\u001b[0m\u001b[0;34m)\u001b[0m\u001b[0;34m]\u001b[0m\u001b[0;34m\u001b[0m\u001b[0;34m\u001b[0m\u001b[0m\n\u001b[1;32m      5\u001b[0m \u001b[0;34m\u001b[0m\u001b[0m\n",
      "\u001b[0;32m/srv/conda/envs/notebook/lib/python3.8/site-packages/azure/core/paging.py\u001b[0m in \u001b[0;36m__next__\u001b[0;34m(self)\u001b[0m\n\u001b[1;32m    127\u001b[0m         \u001b[0;32mif\u001b[0m \u001b[0mself\u001b[0m\u001b[0;34m.\u001b[0m\u001b[0m_page_iterator\u001b[0m \u001b[0;32mis\u001b[0m \u001b[0;32mNone\u001b[0m\u001b[0;34m:\u001b[0m\u001b[0;34m\u001b[0m\u001b[0;34m\u001b[0m\u001b[0m\n\u001b[1;32m    128\u001b[0m             \u001b[0mself\u001b[0m\u001b[0;34m.\u001b[0m\u001b[0m_page_iterator\u001b[0m \u001b[0;34m=\u001b[0m \u001b[0mitertools\u001b[0m\u001b[0;34m.\u001b[0m\u001b[0mchain\u001b[0m\u001b[0;34m.\u001b[0m\u001b[0mfrom_iterable\u001b[0m\u001b[0;34m(\u001b[0m\u001b[0mself\u001b[0m\u001b[0;34m.\u001b[0m\u001b[0mby_page\u001b[0m\u001b[0;34m(\u001b[0m\u001b[0;34m)\u001b[0m\u001b[0;34m)\u001b[0m\u001b[0;34m\u001b[0m\u001b[0;34m\u001b[0m\u001b[0m\n\u001b[0;32m--> 129\u001b[0;31m         \u001b[0;32mreturn\u001b[0m \u001b[0mnext\u001b[0m\u001b[0;34m(\u001b[0m\u001b[0mself\u001b[0m\u001b[0;34m.\u001b[0m\u001b[0m_page_iterator\u001b[0m\u001b[0;34m)\u001b[0m\u001b[0;34m\u001b[0m\u001b[0;34m\u001b[0m\u001b[0m\n\u001b[0m\u001b[1;32m    130\u001b[0m \u001b[0;34m\u001b[0m\u001b[0m\n\u001b[1;32m    131\u001b[0m     \u001b[0mnext\u001b[0m \u001b[0;34m=\u001b[0m \u001b[0m__next__\u001b[0m  \u001b[0;31m# Python 2 compatibility.\u001b[0m\u001b[0;34m\u001b[0m\u001b[0;34m\u001b[0m\u001b[0m\n",
      "\u001b[0;32m/srv/conda/envs/notebook/lib/python3.8/site-packages/azure/core/paging.py\u001b[0m in \u001b[0;36m__next__\u001b[0;34m(self)\u001b[0m\n\u001b[1;32m     74\u001b[0m             \u001b[0;32mraise\u001b[0m \u001b[0mStopIteration\u001b[0m\u001b[0;34m(\u001b[0m\u001b[0;34m\"End of paging\"\u001b[0m\u001b[0;34m)\u001b[0m\u001b[0;34m\u001b[0m\u001b[0;34m\u001b[0m\u001b[0m\n\u001b[1;32m     75\u001b[0m         \u001b[0;32mtry\u001b[0m\u001b[0;34m:\u001b[0m\u001b[0;34m\u001b[0m\u001b[0;34m\u001b[0m\u001b[0m\n\u001b[0;32m---> 76\u001b[0;31m             \u001b[0mself\u001b[0m\u001b[0;34m.\u001b[0m\u001b[0m_response\u001b[0m \u001b[0;34m=\u001b[0m \u001b[0mself\u001b[0m\u001b[0;34m.\u001b[0m\u001b[0m_get_next\u001b[0m\u001b[0;34m(\u001b[0m\u001b[0mself\u001b[0m\u001b[0;34m.\u001b[0m\u001b[0mcontinuation_token\u001b[0m\u001b[0;34m)\u001b[0m\u001b[0;34m\u001b[0m\u001b[0;34m\u001b[0m\u001b[0m\n\u001b[0m\u001b[1;32m     77\u001b[0m         \u001b[0;32mexcept\u001b[0m \u001b[0mAzureError\u001b[0m \u001b[0;32mas\u001b[0m \u001b[0merror\u001b[0m\u001b[0;34m:\u001b[0m\u001b[0;34m\u001b[0m\u001b[0;34m\u001b[0m\u001b[0m\n\u001b[1;32m     78\u001b[0m             \u001b[0;32mif\u001b[0m \u001b[0;32mnot\u001b[0m \u001b[0merror\u001b[0m\u001b[0;34m.\u001b[0m\u001b[0mcontinuation_token\u001b[0m\u001b[0;34m:\u001b[0m\u001b[0;34m\u001b[0m\u001b[0;34m\u001b[0m\u001b[0m\n",
      "\u001b[0;32m/srv/conda/envs/notebook/lib/python3.8/site-packages/azure/storage/blob/_list_blobs_helper.py\u001b[0m in \u001b[0;36m_get_next_cb\u001b[0;34m(self, continuation_token)\u001b[0m\n\u001b[1;32m     77\u001b[0m                 use_location=self.location_mode)\n\u001b[1;32m     78\u001b[0m         \u001b[0;32mexcept\u001b[0m \u001b[0mHttpResponseError\u001b[0m \u001b[0;32mas\u001b[0m \u001b[0merror\u001b[0m\u001b[0;34m:\u001b[0m\u001b[0;34m\u001b[0m\u001b[0;34m\u001b[0m\u001b[0m\n\u001b[0;32m---> 79\u001b[0;31m             \u001b[0mprocess_storage_error\u001b[0m\u001b[0;34m(\u001b[0m\u001b[0merror\u001b[0m\u001b[0;34m)\u001b[0m\u001b[0;34m\u001b[0m\u001b[0;34m\u001b[0m\u001b[0m\n\u001b[0m\u001b[1;32m     80\u001b[0m \u001b[0;34m\u001b[0m\u001b[0m\n\u001b[1;32m     81\u001b[0m     \u001b[0;32mdef\u001b[0m \u001b[0m_extract_data_cb\u001b[0m\u001b[0;34m(\u001b[0m\u001b[0mself\u001b[0m\u001b[0;34m,\u001b[0m \u001b[0mget_next_return\u001b[0m\u001b[0;34m)\u001b[0m\u001b[0;34m:\u001b[0m\u001b[0;34m\u001b[0m\u001b[0;34m\u001b[0m\u001b[0m\n",
      "\u001b[0;32m/srv/conda/envs/notebook/lib/python3.8/site-packages/azure/storage/blob/_shared/response_handlers.py\u001b[0m in \u001b[0;36mprocess_storage_error\u001b[0;34m(storage_error)\u001b[0m\n\u001b[1;32m    175\u001b[0m     \u001b[0;32mtry\u001b[0m\u001b[0;34m:\u001b[0m\u001b[0;34m\u001b[0m\u001b[0;34m\u001b[0m\u001b[0m\n\u001b[1;32m    176\u001b[0m         \u001b[0;31m# `from None` prevents us from double printing the exception (suppresses generated layer error context)\u001b[0m\u001b[0;34m\u001b[0m\u001b[0;34m\u001b[0m\u001b[0;34m\u001b[0m\u001b[0m\n\u001b[0;32m--> 177\u001b[0;31m         \u001b[0mexec\u001b[0m\u001b[0;34m(\u001b[0m\u001b[0;34m\"raise error from None\"\u001b[0m\u001b[0;34m)\u001b[0m   \u001b[0;31m# pylint: disable=exec-used # nosec\u001b[0m\u001b[0;34m\u001b[0m\u001b[0;34m\u001b[0m\u001b[0m\n\u001b[0m\u001b[1;32m    178\u001b[0m     \u001b[0;32mexcept\u001b[0m \u001b[0mSyntaxError\u001b[0m\u001b[0;34m:\u001b[0m\u001b[0;34m\u001b[0m\u001b[0;34m\u001b[0m\u001b[0m\n\u001b[1;32m    179\u001b[0m         \u001b[0;32mraise\u001b[0m \u001b[0merror\u001b[0m\u001b[0;34m\u001b[0m\u001b[0;34m\u001b[0m\u001b[0m\n",
      "\u001b[0;32m/srv/conda/envs/notebook/lib/python3.8/site-packages/azure/storage/blob/_shared/response_handlers.py\u001b[0m in \u001b[0;36m<module>\u001b[0;34m\u001b[0m\n",
      "\u001b[0;31mClientAuthenticationError\u001b[0m: Server failed to authenticate the request. Make sure the value of Authorization header is formed correctly including the signature.\nRequestId:39922a4c-b01e-0071-394f-3b5173000000\nTime:2022-03-19T05:11:10.8191779Z\nErrorCode:AuthenticationFailed\nauthenticationerrordetail:SAS identifier cannot be found for specified signed identifier"
     ]
    }
   ],
   "source": [
    "generator = container_client.list_blobs(name_starts_with=azure_scene_prefix)\n",
    "scene_files = list(generator)\n",
    "image_blobs = [blob.name for blob in scene_files if blob.name.endswith('.tiff')]\n",
    "preview_blobs = [blob.name for blob in scene_files if blob.name.endswith('quick-look.png')]\n",
    "\n",
    "print('Found {} image files and {} preview files:'.format(len(image_blobs),len(preview_blobs)))\n",
    "for s in image_blobs:\n",
    "    print(s)\n",
    "for s in preview_blobs:\n",
    "    print(s)    "
   ]
  },
  {
   "cell_type": "markdown",
   "metadata": {},
   "source": [
    "### Convert to Azure blob URLs"
   ]
  },
  {
   "cell_type": "code",
   "execution_count": null,
   "metadata": {},
   "outputs": [],
   "source": [
    "image_urls = []\n",
    "for blob_path in image_blobs:\n",
    "    image_urls.append(storage_account_url + container_name + '/' + blob_path + sas_token)\n",
    "preview_urls = []\n",
    "for blob_path in preview_blobs:\n",
    "    preview_urls.append(storage_account_url + container_name + '/' + blob_path + sas_token)"
   ]
  },
  {
   "cell_type": "markdown",
   "metadata": {},
   "source": [
    "### Render the original thumbnail image"
   ]
  },
  {
   "cell_type": "code",
   "execution_count": null,
   "metadata": {},
   "outputs": [],
   "source": [
    "from PIL import Image\n",
    "from IPython.display import display\n",
    "import requests\n",
    "import io\n",
    "\n",
    "url = preview_urls[0]\n",
    "response = requests.get(url)\n",
    "image_bytes = io.BytesIO(response.content)\n",
    "img = Image.open(image_bytes)\n",
    "display(img)"
   ]
  },
  {
   "cell_type": "markdown",
   "metadata": {},
   "source": [
    "### Render previews from COG files without reading the whole file\n",
    "\n",
    "We'll render our two images (two capture modes) separately."
   ]
  },
  {
   "cell_type": "code",
   "execution_count": null,
   "metadata": {},
   "outputs": [],
   "source": [
    "for url in image_urls:\n",
    "    \n",
    "    with rasterio.open(url) as raster:\n",
    "        \n",
    "        # List of overviews from biggest to smallest\n",
    "        oviews = raster.overviews(1)\n",
    "    \n",
    "        # Retrieve the smallest thumbnail\n",
    "        decimation_level = oviews[-1]\n",
    "        h = int(raster.height/decimation_level)\n",
    "        w = int(raster.width/decimation_level)\n",
    "        \n",
    "        d = raster.read(1, out_shape=(1, h, w)) / norm_value\n",
    "        np.clip(d,0,1,d)\n",
    "        fig = plt.figure(frameon=False); ax = plt.Axes(fig,[0., 0., 1., 1.]); ax.set_axis_off(); fig.add_axes(ax)\n",
    "        plt.imshow(d)\n"
   ]
  },
  {
   "cell_type": "markdown",
   "metadata": {},
   "source": [
    "### Composite the captures into one image for the scene"
   ]
  },
  {
   "cell_type": "code",
   "execution_count": null,
   "metadata": {},
   "outputs": [],
   "source": [
    "image_data = []\n",
    "\n",
    "for url in image_urls:\n",
    "    with rasterio.open(url,'r') as raster:\n",
    "        h = int(raster.height/dsfactor)\n",
    "        w = int(raster.width/dsfactor)\n",
    "        band_array = raster.read(1, out_shape=(1, h, w))\n",
    "        raster.close()\n",
    "        band_array = band_array / composite_norm_value\n",
    "        image_data.append(band_array)\n",
    "\n",
    "# Lazily re-use the last capture to make an RGB image        \n",
    "while len(image_data) < 3:\n",
    "    image_data.append(image_data[-1])\n",
    "rgb = np.dstack((image_data[0],image_data[1],image_data[2]))\n",
    "\n",
    "np.clip(rgb,0,1,rgb)\n",
    "fig = plt.figure(frameon=False); ax = plt.Axes(fig,[0., 0., 1., 1.]); ax.set_axis_off(); fig.add_axes(ax)                \n",
    "plt.imshow(rgb);"
   ]
  }
 ],
 "metadata": {
  "kernelspec": {
   "display_name": "Python 3 (ipykernel)",
   "language": "python",
   "name": "python3"
  },
  "language_info": {
   "codemirror_mode": {
    "name": "ipython",
    "version": 3
   },
   "file_extension": ".py",
   "mimetype": "text/x-python",
   "name": "python",
   "nbconvert_exporter": "python",
   "pygments_lexer": "ipython3",
   "version": "3.8.12"
  }
 },
 "nbformat": 4,
 "nbformat_minor": 4
}
