{
 "cells": [
  {
   "cell_type": "code",
   "execution_count": 1,
   "id": "7d7788a3-5b44-4969-b8eb-bddab6d8da12",
   "metadata": {},
   "outputs": [],
   "source": [
    "import leafmap"
   ]
  },
  {
   "cell_type": "code",
   "execution_count": 2,
   "id": "52085eb0-5c8f-4ea1-a2c0-db5e2492445d",
   "metadata": {},
   "outputs": [],
   "source": [
    "import planetary_computer as pc\n",
    "import pystac_client\n",
    "from pystac.extensions.projection import ProjectionExtension as proj\n",
    "import geopandas as gpd\n",
    "import json"
   ]
  },
  {
   "cell_type": "code",
   "execution_count": 3,
   "id": "c44833b4-ab49-4b70-983c-a14693986832",
   "metadata": {},
   "outputs": [],
   "source": [
    "aoi = 'fiji_suva'\n",
    "local =  gpd.read_file(aoi + '.geojson')\n",
    "area_of_interest = local.geometry[0]"
   ]
  },
  {
   "cell_type": "code",
   "execution_count": 4,
   "id": "d5fc709a-e5bd-47a5-a973-2726e785e973",
   "metadata": {},
   "outputs": [],
   "source": [
    "catalog = pystac_client.Client.open(\n",
    "    \"https://planetarycomputer.microsoft.com/api/stac/v1\"\n",
    ")\n",
    "\n",
    "search = catalog.search(\n",
    "    intersects=area_of_interest,\n",
    "    datetime=\"2020-01-01/2022-03-30\",\n",
    "    collections=[\"sentinel-2-l2a\"],\n",
    "    limit=500,  # fetch items in batches of 500\n",
    "    query={\"eo:cloud_cover\": {\"lt\": 1.0}}, #cloudcover_percentage\n",
    ")\n",
    "\n",
    "raw_items = search.get_items()\n",
    "\n",
    "#least cloud cover\n",
    "raw_items = sorted(raw_items, key=lambda item: item.properties['eo:cloud_cover'])[0:1]\n",
    "\n",
    "#sign\n",
    "items = [pc.sign(item).to_dict() for item in raw_items]\n",
    "\n",
    "#item/epsg\n",
    "item = next(search.get_items())\n",
    "epsg = proj.ext(item).epsg\n"
   ]
  },
  {
   "cell_type": "code",
   "execution_count": 5,
   "id": "f2ae21bc-d344-4b9b-bb56-d58e12d05492",
   "metadata": {},
   "outputs": [
    {
     "name": "stdout",
     "output_type": "stream",
     "text": [
      "2021-07-07 22:19:39.024000+00:00\n"
     ]
    }
   ],
   "source": [
    "print(item.datetime)"
   ]
  },
  {
   "cell_type": "code",
   "execution_count": 9,
   "id": "bcda9593-467d-4b4e-9604-0711ed1d0f6d",
   "metadata": {},
   "outputs": [
    {
     "data": {
      "application/vnd.jupyter.widget-view+json": {
       "model_id": "689867c20f794126a6a7e3a114cdba2f",
       "version_major": 2,
       "version_minor": 0
      },
      "text/plain": [
       "Map(center=[20, 0], controls=(ZoomControl(options=['position', 'zoom_in_text', 'zoom_in_title', 'zoom_out_text…"
      ]
     },
     "metadata": {},
     "output_type": "display_data"
    }
   ],
   "source": [
    "m = leafmap.Map(zoom=1, google_map=\"ROADMAP\")\n",
    "m.add_stac_layer(\n",
    "    collection=\"sentinel-2-l2a\",\n",
    "    item=item.id,\n",
    "    assets=[\"B04\", \"B03\", \"B02\"], #red, green, blue\n",
    "    color_formula=\"Gamma RGB 3.7 Saturation 1.5 Sigmoidal RGB 15 0.35\",\n",
    "    nodata=0,\n",
    "    rescale=\"0,12000\",\n",
    "\n",
    ")\n",
    "m"
   ]
  },
  {
   "cell_type": "code",
   "execution_count": 13,
   "id": "f2373f17-7bb9-41dd-984f-aa8cdf5b31a3",
   "metadata": {},
   "outputs": [
    {
     "data": {
      "application/vnd.jupyter.widget-view+json": {
       "model_id": "0fa700dd7e22453bb58f484a1d15854d",
       "version_major": 2,
       "version_minor": 0
      },
      "text/plain": [
       "Map(center=[20, 0], controls=(ZoomControl(options=['position', 'zoom_in_text', 'zoom_in_title', 'zoom_out_text…"
      ]
     },
     "metadata": {},
     "output_type": "display_data"
    }
   ],
   "source": [
    "m = leafmap.Map(zoom=1, google_map=\"ROADMAP\")\n",
    "m.add_stac_layer(\n",
    "    collection=\"sentinel-2-l2a\",\n",
    "    item=item.id,\n",
    "    assets=[\"B04\",\"B03\",\"B01\"], #red, green, coastal\n",
    "    nodata=0,\n",
    ")\n",
    "m"
   ]
  },
  {
   "cell_type": "code",
   "execution_count": null,
   "id": "fba456d1-b823-451f-a9ed-074e7354b9b6",
   "metadata": {},
   "outputs": [
    {
     "data": {
      "application/vnd.jupyter.widget-view+json": {
       "model_id": "5d2b07598b874d74b7f4e160bf0e40b6",
       "version_major": 2,
       "version_minor": 0
      },
      "text/plain": [
       "Map(center=[20, 0], controls=(ZoomControl(options=['position', 'zoom_in_text', 'zoom_in_title', 'zoom_out_text…"
      ]
     },
     "metadata": {},
     "output_type": "display_data"
    }
   ],
   "source": [
    "m = leafmap.Map(zoom=1, google_map=\"ROADMAP\")\n",
    "m.add_stac_layer(\n",
    "    collection=\"sentinel-2-l2a\",\n",
    "    item=item.id,\n",
    "    assets=[\"B04\", \"B03\", \"B01\"], #red, green, coastal\n",
    "    nodata=0,\n",
    "    rescale=\"-1,100\", #-1,100 | -100,100 | -1,1\n",
    ")\n",
    "m"
   ]
  },
  {
   "cell_type": "code",
   "execution_count": null,
   "id": "0f6d9efc-40c4-4584-b85b-cf1585dfe07b",
   "metadata": {},
   "outputs": [],
   "source": []
  }
 ],
 "metadata": {
  "kernelspec": {
   "display_name": "Python 3 (ipykernel)",
   "language": "python",
   "name": "python3"
  },
  "language_info": {
   "codemirror_mode": {
    "name": "ipython",
    "version": 3
   },
   "file_extension": ".py",
   "mimetype": "text/x-python",
   "name": "python",
   "nbconvert_exporter": "python",
   "pygments_lexer": "ipython3",
   "version": "3.8.12"
  }
 },
 "nbformat": 4,
 "nbformat_minor": 5
}
