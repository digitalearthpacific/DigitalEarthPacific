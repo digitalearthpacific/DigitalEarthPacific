{
 "cells": [
  {
   "cell_type": "markdown",
   "id": "797d03cb-8aa1-4355-8e74-dd9bb72028f5",
   "metadata": {},
   "source": [
    "## Using leafmap for interactive mapping \n",
    "\n",
    "[Leafmap](https://leafmap.org/) is a Python package for interactive mapping and geospatial analysis with minimal coding in a Jupyter environment.\n",
    "\n",
    "Leafmap includes great support for visualizing data using STAC metadata. For example, you can provide the name of a collection, item, and asset it visualize."
   ]
  },
  {
   "cell_type": "code",
   "execution_count": 1,
   "id": "daae6609-b02c-4a76-967e-4229d2208d1f",
   "metadata": {},
   "outputs": [
    {
     "ename": "KeyError",
     "evalue": "'bounds'",
     "output_type": "error",
     "traceback": [
      "\u001b[0;31m---------------------------------------------------------------------------\u001b[0m",
      "\u001b[0;31mKeyError\u001b[0m                                  Traceback (most recent call last)",
      "Input \u001b[0;32mIn [1]\u001b[0m, in \u001b[0;36m<cell line: 5>\u001b[0;34m()\u001b[0m\n\u001b[1;32m      3\u001b[0m m \u001b[38;5;241m=\u001b[39m leafmap\u001b[38;5;241m.\u001b[39mMap()\n\u001b[1;32m      4\u001b[0m url \u001b[38;5;241m=\u001b[39m \u001b[38;5;124m\"\u001b[39m\u001b[38;5;124mhttps://deppcpublicstorage.blob.core.windows.net/output/demo/mangrove-fiji-mosaic.json\u001b[39m\u001b[38;5;124m\"\u001b[39m\n\u001b[0;32m----> 5\u001b[0m \u001b[43mleafmap\u001b[49m\u001b[38;5;241;43m.\u001b[39;49m\u001b[43mstac_bounds\u001b[49m\u001b[43m(\u001b[49m\u001b[43murl\u001b[49m\u001b[43m)\u001b[49m\n",
      "File \u001b[0;32m/usr/lib/python3.10/site-packages/leafmap/common.py:1470\u001b[0m, in \u001b[0;36mstac_bounds\u001b[0;34m(url, collection, item, titiler_endpoint, **kwargs)\u001b[0m\n\u001b[1;32m   1467\u001b[0m \u001b[38;5;28;01melse\u001b[39;00m:\n\u001b[1;32m   1468\u001b[0m     r \u001b[38;5;241m=\u001b[39m requests\u001b[38;5;241m.\u001b[39mget(titiler_endpoint\u001b[38;5;241m.\u001b[39murl_for_stac_bounds(), params\u001b[38;5;241m=\u001b[39mkwargs)\u001b[38;5;241m.\u001b[39mjson()\n\u001b[0;32m-> 1470\u001b[0m bounds \u001b[38;5;241m=\u001b[39m \u001b[43mr\u001b[49m\u001b[43m[\u001b[49m\u001b[38;5;124;43m\"\u001b[39;49m\u001b[38;5;124;43mbounds\u001b[39;49m\u001b[38;5;124;43m\"\u001b[39;49m\u001b[43m]\u001b[49m\n\u001b[1;32m   1471\u001b[0m \u001b[38;5;28;01mreturn\u001b[39;00m bounds\n",
      "\u001b[0;31mKeyError\u001b[0m: 'bounds'"
     ]
    }
   ],
   "source": [
    "import leafmap\n",
    "\n",
    "m = leafmap.Map()\n",
    "url = \"https://deppcpublicstorage.blob.core.windows.net/output/demo/mangrove-fiji-mosaic.json\"\n",
    "leafmap.stac_bounds(url)"
   ]
  },
  {
   "cell_type": "code",
   "execution_count": null,
   "id": "3d5ee2e6-2eaf-4734-841f-0793700c2730",
   "metadata": {},
   "outputs": [],
   "source": [
    "leafmap.stac_bands(url)"
   ]
  },
  {
   "cell_type": "code",
   "execution_count": null,
   "id": "fe499a3f-138e-49b9-9eb7-15055ef1071e",
   "metadata": {},
   "outputs": [],
   "source": [
    "leafmap.stac_tile(url)"
   ]
  },
  {
   "cell_type": "code",
   "execution_count": null,
   "id": "5b7e0e59-c820-430f-b66a-c125a6119a92",
   "metadata": {},
   "outputs": [],
   "source": [
    "m.add_stac_layer(url,  bands=['1'], name=\"EVI\")\n",
    "m"
   ]
  },
  {
   "cell_type": "code",
   "execution_count": null,
   "id": "0b01e9e9-0612-49d4-9e6b-83b063c7523e",
   "metadata": {},
   "outputs": [],
   "source": []
  },
  {
   "cell_type": "code",
   "execution_count": null,
   "id": "2b1e023f-0488-4ee4-81d4-0480d765e449",
   "metadata": {},
   "outputs": [],
   "source": []
  }
 ],
 "metadata": {
  "kernelspec": {
   "display_name": "Python 3 (ipykernel)",
   "language": "python",
   "name": "python3"
  },
  "language_info": {
   "codemirror_mode": {
    "name": "ipython",
    "version": 3
   },
   "file_extension": ".py",
   "mimetype": "text/x-python",
   "name": "python",
   "nbconvert_exporter": "python",
   "pygments_lexer": "ipython3",
   "version": "3.10.4"
  }
 },
 "nbformat": 4,
 "nbformat_minor": 5
}
