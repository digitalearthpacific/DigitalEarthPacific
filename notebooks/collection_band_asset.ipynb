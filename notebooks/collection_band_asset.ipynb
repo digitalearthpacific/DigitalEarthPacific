{
 "cells": [
  {
   "cell_type": "markdown",
   "id": "5d9a6c8c-67be-4018-85ab-fc3e1115278c",
   "metadata": {},
   "source": [
    "# Listing Collections, Bands and Assets"
   ]
  },
  {
   "cell_type": "code",
   "execution_count": 1,
   "id": "8d47f403-7672-4a67-b8d0-21a15ddbcd3f",
   "metadata": {},
   "outputs": [],
   "source": [
    "from pystac_client import Client\n",
    "import json\n",
    "import geopandas as gpd\n",
    "import matplotlib.pyplot as plt\n",
    "from pystac_client import Client"
   ]
  },
  {
   "cell_type": "code",
   "execution_count": 2,
   "id": "fd89e501-971d-4635-8a24-a8758d3b6789",
   "metadata": {},
   "outputs": [],
   "source": [
    "local =  gpd.read_file('fiji_viti.geojson')\n",
    "area_of_interest = local.geometry[0]"
   ]
  },
  {
   "cell_type": "code",
   "execution_count": 3,
   "id": "b2203eb7-30ea-4175-810e-92ef96895419",
   "metadata": {},
   "outputs": [],
   "source": [
    "catalog = Client.open(\"https://planetarycomputer.microsoft.com/api/stac/v1\")"
   ]
  },
  {
   "cell_type": "markdown",
   "id": "a996003d-27c0-4ea0-93b1-c180799746b2",
   "metadata": {},
   "source": [
    "### Collections"
   ]
  },
  {
   "cell_type": "code",
   "execution_count": 4,
   "id": "93159945-3410-475f-83be-a984382019b2",
   "metadata": {},
   "outputs": [
    {
     "name": "stdout",
     "output_type": "stream",
     "text": [
      "aster-l1t - ASTER L1T\n",
      "landsat-8-c2-l2 - Landsat 8 Collection 2 Level-2\n",
      "hrea - HREA: High Resolution Electricity Access\n",
      "naip - NAIP: National Agriculture Imagery Program\n",
      "goes-cmi - GOES-R Cloud & Moisture Imagery\n",
      "daymet-daily-na - Daymet Daily North America\n",
      "daymet-annual-pr - Daymet Annual Puerto Rico\n",
      "sentinel-2-l2a - Sentinel-2 Level-2A\n",
      "nasadem - NASADEM HGT v001\n",
      "mobi - MoBI: Map of Biodiversity Importance\n",
      "gridmet - gridMET\n",
      "terraclimate - TerraClimate\n",
      "us-census - US Census\n",
      "gbif - Global Biodiversity Information Facility (GBIF)\n",
      "nrcan-landcover - Land Cover of Canada\n",
      "gap - USGS Gap Land Cover\n",
      "fia - Forest Inventory and Analysis\n",
      "jrc-gsw - JRC Global Surface Water\n",
      "io-lulc - Esri 10-Meter Land Cover (10-class)\n",
      "daymet-daily-pr - Daymet Daily Puerto Rico\n",
      "daymet-daily-hi - Daymet Daily Hawaii\n",
      "daymet-monthly-na - Daymet Monthly North America\n",
      "daymet-monthly-pr - Daymet Monthly Puerto Rico\n",
      "daymet-annual-na - Daymet Annual North America\n",
      "daymet-monthly-hi - Daymet Monthly Hawaii\n",
      "daymet-annual-hi - Daymet Annual Hawaii\n",
      "cop-dem-glo-90 - Copernicus DEM GLO-90\n",
      "cop-dem-glo-30 - Copernicus DEM GLO-30\n",
      "3dep-seamless - USGS 3DEP Seamless DEMs\n",
      "alos-dem - ALOS World 3D-30m\n",
      "hgb - HGB: Harmonized Global Biomass for 2010\n",
      "mtbs - MTBS: Monitoring Trends in Burn Severity\n",
      "chloris-biomass - Chloris Biomass\n",
      "gpm-imerg-hhr - GPM IMERG\n",
      "nasa-nex-gddp-cmip6 - Earth Exchange Global Daily Downscaled Projections (NEX-GDDP-CMIP6)\n",
      "io-lulc-9-class - 10m Annual Land Use Land Cover (9-class)\n",
      "gnatsgo-tables - gNATSGO Soil Database - Tables\n",
      "gnatsgo-rasters - gNATSGO Soil Database - Rasters\n"
     ]
    }
   ],
   "source": [
    "collections = catalog.get_children()\n",
    "for collection in collections:\n",
    "    print(f\"{collection.id} - {collection.title}\")"
   ]
  },
  {
   "cell_type": "markdown",
   "id": "fbd9fb0c-429a-4146-bd6d-802b97391f11",
   "metadata": {},
   "source": [
    "### Bands"
   ]
  },
  {
   "cell_type": "code",
   "execution_count": 5,
   "id": "661ed7e8-f9a4-4a20-b76b-1333c14acc89",
   "metadata": {},
   "outputs": [
    {
     "name": "stdout",
     "output_type": "stream",
     "text": [
      "AOT : aerosol optical thickness\n",
      "B01 (coastal): coastal aerosol\n",
      "B02 (blue): visible blue\n",
      "B03 (green): visible green\n",
      "B04 (red): visible red\n",
      "B05 (rededge): vegetation classification red edge\n",
      "B06 (rededge): vegetation classification red edge\n",
      "B07 (rededge): vegetation classification red edge\n",
      "B08 (nir): near infrared\n",
      "B8A (rededge): vegetation classification red edge\n",
      "B09 : water vapor\n",
      "B11 (swir16): short-wave infrared, snow/ice/cloud classification\n",
      "B12 (swir22): short-wave infrared, snow/ice/cloud classification\n"
     ]
    }
   ],
   "source": [
    "collection_name = \"sentinel-2-l2a\"\n",
    "collection = catalog.get_child(collection_name)\n",
    "for band in collection.extra_fields[\"summaries\"][\"eo:bands\"]:\n",
    "    name = band[\"name\"]\n",
    "    description = band[\"description\"]\n",
    "    common_name = \"\" if \"common_name\" not in band else f\"({band['common_name']})\"\n",
    "    #ground_sample_distance = band[\"gsd\"]\n",
    "    #print(f\"{name} {common_name}: {description} ({ground_sample_distance}m resolution)\")\n",
    "    print(f\"{name} {common_name}: {description}\") "
   ]
  },
  {
   "cell_type": "code",
   "execution_count": 12,
   "id": "60285b87-e794-42c7-a4eb-05a7a1da0e61",
   "metadata": {},
   "outputs": [
    {
     "name": "stdout",
     "output_type": "stream",
     "text": [
      "SR_B1 (coastal): coastal (30m resolution)\n",
      "SR_B2 (blue): visible blue (30m resolution)\n",
      "SR_B3 (green): visible green (30m resolution)\n",
      "SR_B4 (red): visible red (30m resolution)\n",
      "SR_B5 (nir): near-infrared (30m resolution)\n",
      "SR_B6 (swir16): short-wave infrared (30m resolution)\n",
      "SR_B7 (swir22): short-wave infrared (30m resolution)\n",
      "ST_B10 (lwir11): long-wave infrared (100m resolution)\n",
      "ST_TRAD : thermal radiance (30m resolution)\n",
      "ST_URAD : upwelled radiance (30m resolution)\n",
      "ST_ATRAN : atmospheric transmission (30m resolution)\n",
      "ST_CDIST : distance to nearest cloud (30m resolution)\n",
      "ST_DRAD : downwelled radiance (30m resolution)\n",
      "ST_EMIS : emissivity (30m resolution)\n",
      "ST_EMSD : emissivity standard deviation (30m resolution)\n"
     ]
    }
   ],
   "source": [
    "collection = catalog.get_child(\"landsat-8-c2-l2\")\n",
    "for band in collection.extra_fields[\"summaries\"][\"eo:bands\"]:\n",
    "    name = band[\"name\"]\n",
    "    description = band[\"description\"]\n",
    "    common_name = \"\" if \"common_name\" not in band else f\"({band['common_name']})\"\n",
    "    ground_sample_distance = band[\"gsd\"]\n",
    "    print(f\"{name} {common_name}: {description} ({ground_sample_distance}m resolution)\")\n",
    "    "
   ]
  },
  {
   "cell_type": "markdown",
   "id": "1bf1a50c-2aa6-4a65-a2dc-62e3cfef9054",
   "metadata": {},
   "source": [
    "### Assets"
   ]
  },
  {
   "cell_type": "code",
   "execution_count": 7,
   "id": "853ea77f-d044-4dd2-9e9c-cf20f321cbdf",
   "metadata": {},
   "outputs": [],
   "source": [
    "time_range = \"2020-12-01/2020-12-31\"\n",
    "\n",
    "search = catalog.search(\n",
    "    collections=[collection_name], intersects=area_of_interest, datetime=time_range\n",
    ")"
   ]
  },
  {
   "cell_type": "code",
   "execution_count": 8,
   "id": "b3aa8e21-e811-49cd-a27d-e743369488ee",
   "metadata": {},
   "outputs": [
    {
     "name": "stdout",
     "output_type": "stream",
     "text": [
      "S2B_MSIL2A_20201229T221939_R029_T60KXF_20210104T112330: 2020-12-29 22:19:39.024000+00:00\n",
      "S2B_MSIL2A_20201229T221939_R029_T60KXE_20201230T081018: 2020-12-29 22:19:39.024000+00:00\n",
      "S2B_MSIL2A_20201229T221939_R029_T60KWE_20201230T081040: 2020-12-29 22:19:39.024000+00:00\n",
      "S2A_MSIL2A_20201227T223011_R072_T60KXF_20201228T100838: 2020-12-27 22:30:11.024000+00:00\n",
      "S2A_MSIL2A_20201227T223011_R072_T60KXE_20201228T100536: 2020-12-27 22:30:11.024000+00:00\n",
      "S2A_MSIL2A_20201227T223011_R072_T60KWF_20201228T100611: 2020-12-27 22:30:11.024000+00:00\n",
      "S2A_MSIL2A_20201227T223011_R072_T60KWE_20201228T100535: 2020-12-27 22:30:11.024000+00:00\n",
      "S2A_MSIL2A_20201224T221941_R029_T60KXF_20201225T135847: 2020-12-24 22:19:41.024000+00:00\n",
      "S2A_MSIL2A_20201224T221941_R029_T60KXE_20201225T135641: 2020-12-24 22:19:41.024000+00:00\n",
      "S2A_MSIL2A_20201224T221941_R029_T60KWE_20201225T135922: 2020-12-24 22:19:41.024000+00:00\n",
      "S2B_MSIL2A_20201222T223009_R072_T60KXF_20201225T102426: 2020-12-22 22:30:09.024000+00:00\n",
      "S2B_MSIL2A_20201222T223009_R072_T60KXE_20201225T102602: 2020-12-22 22:30:09.024000+00:00\n",
      "S2B_MSIL2A_20201222T223009_R072_T60KWF_20201225T102528: 2020-12-22 22:30:09.024000+00:00\n",
      "S2B_MSIL2A_20201222T223009_R072_T60KWE_20201225T102456: 2020-12-22 22:30:09.024000+00:00\n",
      "S2B_MSIL2A_20201219T221939_R029_T60KXF_20201220T182504: 2020-12-19 22:19:39.024000+00:00\n",
      "S2B_MSIL2A_20201219T221939_R029_T60KXE_20201220T182456: 2020-12-19 22:19:39.024000+00:00\n",
      "S2B_MSIL2A_20201219T221939_R029_T60KWE_20201220T182359: 2020-12-19 22:19:39.024000+00:00\n",
      "S2A_MSIL2A_20201217T223011_R072_T60KXF_20201218T123139: 2020-12-17 22:30:11.024000+00:00\n",
      "S2A_MSIL2A_20201217T223011_R072_T60KXE_20201218T123250: 2020-12-17 22:30:11.024000+00:00\n",
      "S2A_MSIL2A_20201217T223011_R072_T60KWF_20201218T123509: 2020-12-17 22:30:11.024000+00:00\n",
      "S2A_MSIL2A_20201217T223011_R072_T60KWE_20201218T123211: 2020-12-17 22:30:11.024000+00:00\n",
      "S2A_MSIL2A_20201214T221941_R029_T60KXF_20201215T121251: 2020-12-14 22:19:41.024000+00:00\n",
      "S2A_MSIL2A_20201214T221941_R029_T60KXE_20201215T121233: 2020-12-14 22:19:41.024000+00:00\n",
      "S2A_MSIL2A_20201214T221941_R029_T60KWE_20201215T121112: 2020-12-14 22:19:41.024000+00:00\n",
      "S2B_MSIL2A_20201212T223009_R072_T60KXF_20201213T144222: 2020-12-12 22:30:09.024000+00:00\n",
      "S2B_MSIL2A_20201212T223009_R072_T60KXE_20201213T144256: 2020-12-12 22:30:09.024000+00:00\n",
      "S2B_MSIL2A_20201212T223009_R072_T60KWF_20201213T144446: 2020-12-12 22:30:09.024000+00:00\n",
      "S2B_MSIL2A_20201212T223009_R072_T60KWE_20201213T144346: 2020-12-12 22:30:09.024000+00:00\n",
      "S2B_MSIL2A_20201209T221939_R029_T60KXF_20201210T191739: 2020-12-09 22:19:39.024000+00:00\n",
      "S2B_MSIL2A_20201209T221939_R029_T60KXE_20201210T191852: 2020-12-09 22:19:39.024000+00:00\n",
      "S2B_MSIL2A_20201209T221939_R029_T60KWE_20201210T191708: 2020-12-09 22:19:39.024000+00:00\n",
      "S2A_MSIL2A_20201207T223011_R072_T60KXF_20201208T074254: 2020-12-07 22:30:11.024000+00:00\n",
      "S2A_MSIL2A_20201207T223011_R072_T60KXE_20201208T074225: 2020-12-07 22:30:11.024000+00:00\n",
      "S2A_MSIL2A_20201207T223011_R072_T60KWF_20201208T074239: 2020-12-07 22:30:11.024000+00:00\n",
      "S2A_MSIL2A_20201207T223011_R072_T60KWE_20201208T074321: 2020-12-07 22:30:11.024000+00:00\n",
      "S2A_MSIL2A_20201204T221941_R029_T60KXF_20201205T211342: 2020-12-04 22:19:41.024000+00:00\n",
      "S2A_MSIL2A_20201204T221941_R029_T60KXE_20201205T211435: 2020-12-04 22:19:41.024000+00:00\n",
      "S2A_MSIL2A_20201204T221941_R029_T60KWE_20201205T211515: 2020-12-04 22:19:41.024000+00:00\n",
      "S2B_MSIL2A_20201202T223009_R072_T60KXF_20201203T234922: 2020-12-02 22:30:09.024000+00:00\n",
      "S2B_MSIL2A_20201202T223009_R072_T60KXE_20201203T235022: 2020-12-02 22:30:09.024000+00:00\n",
      "S2B_MSIL2A_20201202T223009_R072_T60KWF_20201203T235035: 2020-12-02 22:30:09.024000+00:00\n",
      "S2B_MSIL2A_20201202T223009_R072_T60KWE_20201203T234956: 2020-12-02 22:30:09.024000+00:00\n"
     ]
    }
   ],
   "source": [
    "items = list(search.get_items())\n",
    "for item in items:\n",
    "    print(f\"{item.id}: {item.datetime}\")"
   ]
  },
  {
   "cell_type": "code",
   "execution_count": 9,
   "id": "b007f3b0-b5c6-4582-b7db-16e39b0fdc21",
   "metadata": {},
   "outputs": [],
   "source": [
    "selected_item = sorted(items, key=lambda item: item.properties[\"eo:cloud_cover\"])[0]"
   ]
  },
  {
   "cell_type": "code",
   "execution_count": 10,
   "id": "8a2a4a82-cb08-4aae-bb87-394b96663e0f",
   "metadata": {},
   "outputs": [
    {
     "name": "stdout",
     "output_type": "stream",
     "text": [
      "AOT                       - Aerosol optical thickness (AOT)\n",
      "B01                       - Band 1 - Coastal aerosol - 60m\n",
      "B02                       - Band 2 - Blue - 10m\n",
      "B03                       - Band 3 - Green - 10m\n",
      "B04                       - Band 4 - Red - 10m\n",
      "B05                       - Band 5 - Vegetation red edge 1 - 20m\n",
      "B06                       - Band 6 - Vegetation red edge 2 - 20m\n",
      "B07                       - Band 7 - Vegetation red edge 3 - 20m\n",
      "B08                       - Band 8 - NIR - 10m\n",
      "B09                       - Band 9 - Water vapor - 60m\n",
      "B11                       - Band 11 - SWIR (1.6) - 20m\n",
      "B12                       - Band 12 - SWIR (2.2) - 20m\n",
      "B8A                       - Band 8A - Vegetation red edge 4 - 20m\n",
      "SCL                       - Scene classfication map (SCL)\n",
      "WVP                       - Water vapour (WVP)\n",
      "visual                    - True color image\n",
      "preview                   - Thumbnail\n",
      "safe-manifest             - SAFE manifest\n",
      "granule-metadata          - Granule metadata\n",
      "inspire-metadata          - INSPIRE metadata\n",
      "product-metadata          - Product metadata\n",
      "datastrip-metadata        - Datastrip metadata\n",
      "tilejson                  - TileJSON with default rendering\n",
      "rendered_preview          - Rendered preview\n"
     ]
    }
   ],
   "source": [
    "for asset_key, asset in selected_item.assets.items():\n",
    "    print(f\"{asset_key:<25} - {asset.title}\")"
   ]
  },
  {
   "cell_type": "markdown",
   "id": "f87a96d7-b676-4d4c-a433-5b29b01a77d0",
   "metadata": {},
   "source": [
    "### Get Asset"
   ]
  },
  {
   "cell_type": "code",
   "execution_count": 11,
   "id": "6cdc66b3-158b-4338-9e17-e0e70deeaf93",
   "metadata": {},
   "outputs": [
    {
     "data": {
      "image/png": "[encoded data removed]",
      "text/plain": [
       "<PIL.TiffImagePlugin.TiffImageFile image mode=RGB size=343x343 at 0x7FE91D8FCCD0>"
      ]
     },
     "execution_count": 11,
     "metadata": {},
     "output_type": "execute_result"
    }
   ],
   "source": [
    "import requests\n",
    "import planetary_computer as pc\n",
    "from PIL import Image\n",
    "from urllib.request import urlopen\n",
    "\n",
    "asset = selected_item.assets[\"preview\"]\n",
    "requests.get(asset.href)\n",
    "signed_href = pc.sign(asset.href)\n",
    "Image.open(urlopen(signed_href))"
   ]
  },
  {
   "cell_type": "code",
   "execution_count": null,
   "id": "f4297589-c829-4ea9-b912-6c690114df52",
   "metadata": {},
   "outputs": [],
   "source": []
  }
 ],
 "metadata": {
  "kernelspec": {
   "display_name": "Python 3 (ipykernel)",
   "language": "python",
   "name": "python3"
  },
  "language_info": {
   "codemirror_mode": {
    "name": "ipython",
    "version": 3
   },
   "file_extension": ".py",
   "mimetype": "text/x-python",
   "name": "python",
   "nbconvert_exporter": "python",
   "pygments_lexer": "ipython3",
   "version": "3.8.12"
  }
 },
 "nbformat": 4,
 "nbformat_minor": 5
}
