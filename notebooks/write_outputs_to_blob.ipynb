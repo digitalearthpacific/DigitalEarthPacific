{
 "cells": [
  {
   "cell_type": "markdown",
   "id": "01789a37-f019-4162-af45-8441fbb5f501",
   "metadata": {},
   "source": [
    "# Blob Storage Writing\n",
    "Test access to DEP storage from Planetary Computer instances.\n",
    "1. Get a SAS token\n",
    "2. Create a Container connection\n",
    "3. List Blobs in container\n",
    "4. Test uploading a blob\n",
    "\n",
    "## References\n",
    "https://docs.microsoft.com/en-us/python/api/azure-storage-blob/azure.storage.blob.containerclient?view=azure-python#upload-blob-name--data--blob-type--blobtype-blockblob---blockblob----length-none--metadata-none----kwargs-\n",
    "\n",
    "https://trstringer.com/read-write-azure-storage-blob-python/\n",
    "\n",
    "https://docs.microsoft.com/en-us/azure/storage/blobs/storage-quickstart-blobs-python"
   ]
  },
  {
   "cell_type": "code",
   "execution_count": 1,
   "id": "8acb6729-8e94-4fde-840e-fe49ffc57c2d",
   "metadata": {},
   "outputs": [],
   "source": [
    "from azure.storage.blob import BlobServiceClient, ContainerClient, BlobClient            "
   ]
  },
  {
   "cell_type": "code",
   "execution_count": 14,
   "id": "9c638899-411c-482d-9add-7da792cd1753",
   "metadata": {},
   "outputs": [],
   "source": [
    "# You need the url + creds of the container, or the SAS_token with url of the container to write to it.\n",
    "#base_url = \"https://deppublicstorage.blob.core.windows.net/output\"\n",
    "\n",
    "# Storage just for testing\n",
    "account_url = \"url+SAS_Token\""
   ]
  },
  {
   "cell_type": "code",
   "execution_count": 15,
   "id": "8a180d2d-832e-4100-a6cd-833d40cd54c7",
   "metadata": {},
   "outputs": [],
   "source": [
    "# Create a container connection with SAS_Token_url\n",
    "container_client = ContainerClient.from_container_url(account_url)"
   ]
  },
  {
   "cell_type": "code",
   "execution_count": 24,
   "id": "4ecb77e3-e090-414a-80c3-a1358e706c70",
   "metadata": {},
   "outputs": [
    {
     "name": "stdout",
     "output_type": "stream",
     "text": [
      "\texample\n",
      "\tpic_admin.geojson\n"
     ]
    }
   ],
   "source": [
    "# Prove you can see the files by listing what's in the bucket\n",
    "blob_list = container_client.list_blobs()\n",
    "for blob in blob_list:\n",
    "    print(\"\\t\" + blob.name)"
   ]
  },
  {
   "cell_type": "markdown",
   "id": "10e7f87d-1e9c-464b-baca-64ce7b1bbf99",
   "metadata": {},
   "source": [
    "Upload Test"
   ]
  },
  {
   "cell_type": "code",
   "execution_count": 23,
   "id": "886e9948-4076-48c5-9c58-3261b33d99c3",
   "metadata": {},
   "outputs": [],
   "source": [
    "# upload a local file to blob storage\n",
    "file_name = \"pic_admin.geojson\" \n",
    "with open(file_name, \"rb\") as blob_file:\n",
    "    container_client.upload_blob(name=file_name, data=blob_file)\n",
    "\n",
    "# TODO: make a new folder inside the container and upload inside that folder.\n",
    "# this should be adding \"folder_name/file_name.json\" so a virtual folder is made via paths"
   ]
  },
  {
   "cell_type": "markdown",
   "id": "f3abe5e5-b2c4-444e-8fbf-277a80645632",
   "metadata": {},
   "source": [
    "Tried to look IP address and whitelist it for storage access, but public IP may not be the same IP used to cross MS networks.\n"
   ]
  },
  {
   "cell_type": "code",
   "execution_count": 20,
   "id": "97cd5252-75eb-4196-a63a-d0db835e0063",
   "metadata": {},
   "outputs": [
    {
     "data": {
      "text/plain": [
       "b'20.82.40.24'"
      ]
     },
     "execution_count": 20,
     "metadata": {},
     "output_type": "execute_result"
    }
   ],
   "source": [
    "import requests\n",
    "ip = requests.get('https://api.ipify.org')\n",
    "ip.content"
   ]
  }
 ],
 "metadata": {
  "kernelspec": {
   "display_name": "Python 3 (ipykernel)",
   "language": "python",
   "name": "python3"
  },
  "language_info": {
   "codemirror_mode": {
    "name": "ipython",
    "version": 3
   },
   "file_extension": ".py",
   "mimetype": "text/x-python",
   "name": "python",
   "nbconvert_exporter": "python",
   "pygments_lexer": "ipython3",
   "version": "3.8.12"
  }
 },
 "nbformat": 4,
 "nbformat_minor": 5
}
