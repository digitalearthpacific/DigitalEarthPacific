{
 "cells": [
  {
   "cell_type": "code",
   "execution_count": 1,
   "id": "1db38a9e-9d2c-4cb5-9056-62c78a2dc4c5",
   "metadata": {},
   "outputs": [],
   "source": [
    "import geopandas as gpd\n",
    "from geocube.api.core import make_geocube\n",
    "import os, os.path\n",
    "import matplotlib.pyplot as plt"
   ]
  },
  {
   "cell_type": "code",
   "execution_count": 2,
   "id": "24b2ec25-123e-4033-aee5-e4950139a195",
   "metadata": {},
   "outputs": [
    {
     "data": {
      "text/html": [
       "<div>\n",
       "<style scoped>\n",
       "    .dataframe tbody tr th:only-of-type {\n",
       "        vertical-align: middle;\n",
       "    }\n",
       "\n",
       "    .dataframe tbody tr th {\n",
       "        vertical-align: top;\n",
       "    }\n",
       "\n",
       "    .dataframe thead th {\n",
       "        text-align: right;\n",
       "    }\n",
       "</style>\n",
       "<table border=\"1\" class=\"dataframe\">\n",
       "  <thead>\n",
       "    <tr style=\"text-align: right;\">\n",
       "      <th></th>\n",
       "      <th>ogc_fid</th>\n",
       "      <th>pxlval</th>\n",
       "      <th>geometry</th>\n",
       "    </tr>\n",
       "  </thead>\n",
       "  <tbody>\n",
       "    <tr>\n",
       "      <th>0</th>\n",
       "      <td>1.0</td>\n",
       "      <td>1</td>\n",
       "      <td>POLYGON ((-62.86778 10.00000, -62.86756 10.000...</td>\n",
       "    </tr>\n",
       "    <tr>\n",
       "      <th>1</th>\n",
       "      <td>2.0</td>\n",
       "      <td>1</td>\n",
       "      <td>POLYGON ((-62.86600 10.00000, -62.86578 10.000...</td>\n",
       "    </tr>\n",
       "    <tr>\n",
       "      <th>2</th>\n",
       "      <td>3.0</td>\n",
       "      <td>1</td>\n",
       "      <td>POLYGON ((-62.84600 10.00000, -62.84556 10.000...</td>\n",
       "    </tr>\n",
       "    <tr>\n",
       "      <th>3</th>\n",
       "      <td>4.0</td>\n",
       "      <td>1</td>\n",
       "      <td>POLYGON ((-62.84311 10.00000, -62.84267 10.000...</td>\n",
       "    </tr>\n",
       "    <tr>\n",
       "      <th>4</th>\n",
       "      <td>5.0</td>\n",
       "      <td>1</td>\n",
       "      <td>POLYGON ((-62.45556 10.00000, -62.45511 10.000...</td>\n",
       "    </tr>\n",
       "    <tr>\n",
       "      <th>...</th>\n",
       "      <td>...</td>\n",
       "      <td>...</td>\n",
       "      <td>...</td>\n",
       "    </tr>\n",
       "    <tr>\n",
       "      <th>595265</th>\n",
       "      <td>595266.0</td>\n",
       "      <td>1</td>\n",
       "      <td>POLYGON ((39.30622 -6.87400, 39.30667 -6.87400...</td>\n",
       "    </tr>\n",
       "    <tr>\n",
       "      <th>595266</th>\n",
       "      <td>595267.0</td>\n",
       "      <td>1</td>\n",
       "      <td>POLYGON ((39.53822 -6.98556, 39.53844 -6.98556...</td>\n",
       "    </tr>\n",
       "    <tr>\n",
       "      <th>595267</th>\n",
       "      <td>595268.0</td>\n",
       "      <td>1</td>\n",
       "      <td>POLYGON ((39.53844 -6.98578, 39.53867 -6.98578...</td>\n",
       "    </tr>\n",
       "    <tr>\n",
       "      <th>595268</th>\n",
       "      <td>595269.0</td>\n",
       "      <td>1</td>\n",
       "      <td>POLYGON ((39.53756 -6.98511, 39.53778 -6.98511...</td>\n",
       "    </tr>\n",
       "    <tr>\n",
       "      <th>595269</th>\n",
       "      <td>595270.0</td>\n",
       "      <td>1</td>\n",
       "      <td>POLYGON ((39.53933 -6.98644, 39.53956 -6.98644...</td>\n",
       "    </tr>\n",
       "  </tbody>\n",
       "</table>\n",
       "<p>595270 rows × 3 columns</p>\n",
       "</div>"
      ],
      "text/plain": [
       "         ogc_fid  pxlval                                           geometry\n",
       "0            1.0       1  POLYGON ((-62.86778 10.00000, -62.86756 10.000...\n",
       "1            2.0       1  POLYGON ((-62.86600 10.00000, -62.86578 10.000...\n",
       "2            3.0       1  POLYGON ((-62.84600 10.00000, -62.84556 10.000...\n",
       "3            4.0       1  POLYGON ((-62.84311 10.00000, -62.84267 10.000...\n",
       "4            5.0       1  POLYGON ((-62.45556 10.00000, -62.45511 10.000...\n",
       "...          ...     ...                                                ...\n",
       "595265  595266.0       1  POLYGON ((39.30622 -6.87400, 39.30667 -6.87400...\n",
       "595266  595267.0       1  POLYGON ((39.53822 -6.98556, 39.53844 -6.98556...\n",
       "595267  595268.0       1  POLYGON ((39.53844 -6.98578, 39.53867 -6.98578...\n",
       "595268  595269.0       1  POLYGON ((39.53756 -6.98511, 39.53778 -6.98511...\n",
       "595269  595270.0       1  POLYGON ((39.53933 -6.98644, 39.53956 -6.98644...\n",
       "\n",
       "[595270 rows x 3 columns]"
      ]
     },
     "execution_count": 2,
     "metadata": {},
     "output_type": "execute_result"
    }
   ],
   "source": [
    "path = \"/home/sachin/GMW_1996_2016/GMW_2007_v2.0.shp\"\n",
    "gdf = gpd.read_file(path)\n",
    "gdf"
   ]
  },
  {
   "cell_type": "code",
   "execution_count": 3,
   "id": "60d1c655-7f55-41b1-8036-2120ed40d09d",
   "metadata": {},
   "outputs": [
    {
     "data": {
      "text/plain": [
       "595270"
      ]
     },
     "execution_count": 3,
     "metadata": {},
     "output_type": "execute_result"
    }
   ],
   "source": [
    "len(gdf)"
   ]
  },
  {
   "cell_type": "code",
   "execution_count": 4,
   "id": "eb77eeef-8b6c-4f71-90e7-925bf89510f9",
   "metadata": {},
   "outputs": [],
   "source": [
    "cdf = gpd.read_file('pic_bounding_box.geojson')\n",
    "country_names = cdf['NAME'].tolist()"
   ]
  },
  {
   "cell_type": "code",
   "execution_count": null,
   "id": "76b689f4-415d-43fc-a4d5-8bb2bd832a22",
   "metadata": {},
   "outputs": [
    {
     "name": "stdout",
     "output_type": "stream",
     "text": [
      "Writing GeoTiff...\n",
      "Completed: American_Samoa\n"
     ]
    }
   ],
   "source": [
    "for country_name in country_names:\n",
    "    country = cdf.loc[cdf['NAME'] == country_name]\n",
    "    clipped = gpd.clip(gdf, country)\n",
    "    \n",
    "    out_file = \"/home/sachin/tmp/\" + country_name.lower() + \"_mangrove_2007.tif\"\n",
    "    if os.path.exists(out_file): os.remove(out_file)\n",
    "\n",
    "    out_grid = make_geocube(\n",
    "        vector_data=clipped,\n",
    "        measurements=[\"pxlval\"],\n",
    "        resolution=(-0.0001, 0.0001),\n",
    "    )\n",
    "    \n",
    "    print(\"Writing GeoTiff...\")\n",
    "    out_grid[\"pxlval\"].rio.to_raster(out_file, windowed=True, compress='LZW') #tiled=True \n",
    "    print(\"Completed: \" + country_name)\n"
   ]
  },
  {
   "cell_type": "code",
   "execution_count": null,
   "id": "06315f8f-d107-46a5-a0f7-e6a307959219",
   "metadata": {},
   "outputs": [],
   "source": [
    "print(\"Finished.\")"
   ]
  }
 ],
 "metadata": {
  "kernelspec": {
   "display_name": "Python 3 (ipykernel)",
   "language": "python",
   "name": "python3"
  },
  "language_info": {
   "codemirror_mode": {
    "name": "ipython",
    "version": 3
   },
   "file_extension": ".py",
   "mimetype": "text/x-python",
   "name": "python",
   "nbconvert_exporter": "python",
   "pygments_lexer": "ipython3",
   "version": "3.10.4"
  }
 },
 "nbformat": 4,
 "nbformat_minor": 5
}
