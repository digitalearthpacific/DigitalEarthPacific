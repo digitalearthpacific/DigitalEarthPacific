{
 "cells": [
  {
   "cell_type": "markdown",
   "id": "9b999dd7-ecd7-464a-a241-1a9b857f8d86",
   "metadata": {},
   "source": [
    "# Activity Notebook 1B) Introduction to Python in Digital Earth Pacific (DEP)\n",
    "Intended for users of Python who have recently completed **'Activity Notebook 1A'** which provides the foundations of Python for users intending to move onto this notebook: **'Activity Notebook 1B'** introductions to [Digital Earth Pacific (DEP)](https://github.com/digitalearthpacific/DigitalEarthPacific/tree/main). We will again be working with Python within a Jupyter Notebook environment as the IDE. For questions regarding this notebook contact the author via https://github.com/nicholasmetherall"
   ]
  },
  {
   "cell_type": "markdown",
   "id": "35c78da8-924c-4899-8e28-564309790de2",
   "metadata": {},
   "source": [
    "## Functions, parameters and default arguments"
   ]
  },
  {
   "cell_type": "markdown",
   "id": "0155f419-a06f-47b1-9c64-0fd51ebff2d2",
   "metadata": {},
   "source": [
    "In order to interact with Digital Earth Pacific (DEP), we will be making use of the code inputs and workflows you covered in **Activity Notebook 1A**. In addition, we will also be making use of the subsequent code inputs:  \n",
    "  \n",
    "- Functions  \n",
    "- Parameters  \n",
    "- Default arguments\n",
    "\n"
   ]
  },
  {
   "cell_type": "code",
   "execution_count": null,
   "id": "ea9cf71d-4711-4b7b-bcda-7e8724b14892",
   "metadata": {},
   "outputs": [],
   "source": []
  }
 ],
 "metadata": {
  "kernelspec": {
   "display_name": "Python 3 (ipykernel)",
   "language": "python",
   "name": "python3"
  },
  "language_info": {
   "codemirror_mode": {
    "name": "ipython",
    "version": 3
   },
   "file_extension": ".py",
   "mimetype": "text/x-python",
   "name": "python",
   "nbconvert_exporter": "python",
   "pygments_lexer": "ipython3",
   "version": "3.11.4"
  }
 },
 "nbformat": 4,
 "nbformat_minor": 5
}
